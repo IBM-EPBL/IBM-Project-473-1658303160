{
 "cells": [
  {
   "cell_type": "markdown",
   "id": "501398d7",
   "metadata": {},
   "source": [
    "# ASSIGNMENT - 3\n",
    "## Build a Convolutional Neural Network Model for classification of flowers\n",
    "\n",
    "### Presented by: YUVARAJ S (2019504610)\n"
   ]
  },
  {
   "cell_type": "markdown",
   "id": "d2572566",
   "metadata": {},
   "source": [
    "#### 1. Import the necessary libraries"
   ]
  },
  {
   "cell_type": "code",
   "execution_count": 1,
   "id": "b59033f4",
   "metadata": {},
   "outputs": [],
   "source": [
    "import splitfolders\n",
    "import numpy as np\n",
    "import tensorflow as tf\n",
    "from tensorflow.keras.preprocessing.image import ImageDataGenerator\n",
    "from tensorflow.keras.preprocessing import image\n",
    "from tensorflow.keras import layers\n",
    "from tensorflow.keras.models import Sequential\n",
    "from tensorflow.keras.models import load_model\n",
    "from tensorflow.keras.layers import Dense,Convolution2D,MaxPooling2D,Flatten\n",
    "from tensorflow.keras.applications.resnet50 import preprocess_input, decode_predictions\n",
    "from tensorflow.keras.preprocessing import image\n",
    "import matplotlib.pyplot as plt"
   ]
  },
  {
   "cell_type": "markdown",
   "id": "d03c2204",
   "metadata": {},
   "source": [
    "#### 2. Download the dataset and perform image augmentation"
   ]
  },
  {
   "cell_type": "code",
   "execution_count": 2,
   "id": "088af727",
   "metadata": {},
   "outputs": [],
   "source": [
    "train_datagen = ImageDataGenerator(rescale=1./255,zoom_range=0.2,horizontal_flip=True,vertical_flip=False)"
   ]
  },
  {
   "cell_type": "code",
   "execution_count": 3,
   "id": "d4d7a21b",
   "metadata": {},
   "outputs": [],
   "source": [
    "test_datagen = ImageDataGenerator(rescale=1./255)"
   ]
  },
  {
   "cell_type": "code",
   "execution_count": 4,
   "id": "41e0dd7a",
   "metadata": {},
   "outputs": [],
   "source": [
    "input_folder = 'C:\\\\Users\\\\yuvaraj\\\\OneDrive\\\\Documents\\\\IBM\\\\assignment_3\\\\flowers'"
   ]
  },
  {
   "cell_type": "code",
   "execution_count": 5,
   "id": "b04c2aed",
   "metadata": {},
   "outputs": [
    {
     "name": "stderr",
     "output_type": "stream",
     "text": [
      "Copying files: 4317 files [00:25, 170.99 files/s]\n"
     ]
    }
   ],
   "source": [
    "splitfolders.ratio(input_folder,output=\"C:\\\\Users\\\\yuvaraj\\\\OneDrive\\\\Documents\\\\IBM\\\\assignment_3\\\\flowers\\\\flowersdataset\",ratio=(.8,0,.2),group_prefix=None)"
   ]
  },
  {
   "cell_type": "code",
   "execution_count": 6,
   "id": "522da7e1",
   "metadata": {},
   "outputs": [
    {
     "name": "stdout",
     "output_type": "stream",
     "text": [
      "Found 3452 images belonging to 5 classes.\n"
     ]
    }
   ],
   "source": [
    "x_train=train_datagen.flow_from_directory(r\"C:\\Users\\yuvaraj\\OneDrive\\Documents\\IBM\\assignment_3\\flowers\\flowersdataset\\train\",target_size=(64,64),class_mode='categorical',batch_size=24)"
   ]
  },
  {
   "cell_type": "code",
   "execution_count": 7,
   "id": "36bcacaa",
   "metadata": {},
   "outputs": [
    {
     "name": "stdout",
     "output_type": "stream",
     "text": [
      "Found 865 images belonging to 5 classes.\n"
     ]
    }
   ],
   "source": [
    "x_test=test_datagen.flow_from_directory(r\"C:\\Users\\yuvaraj\\OneDrive\\Documents\\IBM\\assignment_3\\flowers\\flowersdataset\\test\",target_size=(64,64),class_mode='categorical',batch_size=24)"
   ]
  },
  {
   "cell_type": "code",
   "execution_count": 8,
   "id": "e2d3081e",
   "metadata": {},
   "outputs": [
    {
     "data": {
      "text/plain": [
       "{'daisy': 0, 'dandelion': 1, 'rose': 2, 'sunflower': 3, 'tulip': 4}"
      ]
     },
     "execution_count": 8,
     "metadata": {},
     "output_type": "execute_result"
    }
   ],
   "source": [
    "x_train.class_indices"
   ]
  },
  {
   "cell_type": "markdown",
   "id": "fcba1573",
   "metadata": {},
   "source": [
    "#### 3. Create the model\n",
    "#### Model should contain a Convolution Layer, MaxPooling Layer, Flatten Layer, Dense Layer and Output layer"
   ]
  },
  {
   "cell_type": "code",
   "execution_count": 9,
   "id": "06491a44",
   "metadata": {},
   "outputs": [],
   "source": [
    "model=Sequential()\n",
    "model.add(Convolution2D(32,(3,3),input_shape=(64,64,3),activation='relu'))\n",
    "model.add(MaxPooling2D(pool_size=(2,2)))\n",
    "model.add(Flatten())\n",
    "model.add(Dense(300,activation='relu'))\n",
    "model.add(Dense(150,activation='relu'))"
   ]
  },
  {
   "cell_type": "code",
   "execution_count": 10,
   "id": "9a4b6625",
   "metadata": {},
   "outputs": [
    {
     "name": "stdout",
     "output_type": "stream",
     "text": [
      "Model: \"sequential\"\n",
      "_________________________________________________________________\n",
      "Layer (type)                 Output Shape              Param #   \n",
      "=================================================================\n",
      "conv2d (Conv2D)              (None, 62, 62, 32)        896       \n",
      "_________________________________________________________________\n",
      "max_pooling2d (MaxPooling2D) (None, 31, 31, 32)        0         \n",
      "_________________________________________________________________\n",
      "flatten (Flatten)            (None, 30752)             0         \n",
      "_________________________________________________________________\n",
      "dense (Dense)                (None, 300)               9225900   \n",
      "_________________________________________________________________\n",
      "dense_1 (Dense)              (None, 150)               45150     \n",
      "=================================================================\n",
      "Total params: 9,271,946\n",
      "Trainable params: 9,271,946\n",
      "Non-trainable params: 0\n",
      "_________________________________________________________________\n"
     ]
    }
   ],
   "source": [
    "model.summary()"
   ]
  },
  {
   "cell_type": "code",
   "execution_count": 11,
   "id": "f74c79a9",
   "metadata": {},
   "outputs": [
    {
     "name": "stdout",
     "output_type": "stream",
     "text": [
      "Model: \"sequential\"\n",
      "_________________________________________________________________\n",
      "Layer (type)                 Output Shape              Param #   \n",
      "=================================================================\n",
      "conv2d (Conv2D)              (None, 62, 62, 32)        896       \n",
      "_________________________________________________________________\n",
      "max_pooling2d (MaxPooling2D) (None, 31, 31, 32)        0         \n",
      "_________________________________________________________________\n",
      "flatten (Flatten)            (None, 30752)             0         \n",
      "_________________________________________________________________\n",
      "dense (Dense)                (None, 300)               9225900   \n",
      "_________________________________________________________________\n",
      "dense_1 (Dense)              (None, 150)               45150     \n",
      "_________________________________________________________________\n",
      "dense_2 (Dense)              (None, 5)                 755       \n",
      "=================================================================\n",
      "Total params: 9,272,701\n",
      "Trainable params: 9,272,701\n",
      "Non-trainable params: 0\n",
      "_________________________________________________________________\n"
     ]
    }
   ],
   "source": [
    "model.add(Dense(5,activation='softmax'))\n",
    "model.summary()"
   ]
  },
  {
   "cell_type": "markdown",
   "id": "4c92bf4c",
   "metadata": {},
   "source": [
    "#### 4. Compile the model and train it for 20 epochs using model.fit() method"
   ]
  },
  {
   "cell_type": "code",
   "execution_count": 12,
   "id": "475f0820",
   "metadata": {},
   "outputs": [
    {
     "data": {
      "text/plain": [
       "144"
      ]
     },
     "execution_count": 12,
     "metadata": {},
     "output_type": "execute_result"
    }
   ],
   "source": [
    "model.compile(loss='categorical_crossentropy',optimizer='adam',metrics=['accuracy'])\n",
    "len(x_train)"
   ]
  },
  {
   "cell_type": "code",
   "execution_count": 13,
   "id": "d800023c",
   "metadata": {},
   "outputs": [
    {
     "name": "stdout",
     "output_type": "stream",
     "text": [
      "Epoch 1/20\n",
      "144/144 [==============================] - 44s 158ms/step - loss: 1.2757 - accuracy: 0.4676 - val_loss: 1.1261 - val_accuracy: 0.5549\n",
      "Epoch 2/20\n",
      "144/144 [==============================] - 8s 57ms/step - loss: 1.0409 - accuracy: 0.5855 - val_loss: 1.1483 - val_accuracy: 0.5769\n",
      "Epoch 3/20\n",
      "144/144 [==============================] - 7s 52ms/step - loss: 0.9904 - accuracy: 0.6162 - val_loss: 1.1175 - val_accuracy: 0.5723\n",
      "Epoch 4/20\n",
      "144/144 [==============================] - 7s 49ms/step - loss: 0.8925 - accuracy: 0.6541 - val_loss: 1.0778 - val_accuracy: 0.5803\n",
      "Epoch 5/20\n",
      "144/144 [==============================] - 7s 51ms/step - loss: 0.8504 - accuracy: 0.6715 - val_loss: 1.0019 - val_accuracy: 0.6393\n",
      "Epoch 6/20\n",
      "144/144 [==============================] - 7s 51ms/step - loss: 0.8065 - accuracy: 0.6897 - val_loss: 1.0034 - val_accuracy: 0.6393\n",
      "Epoch 7/20\n",
      "144/144 [==============================] - 7s 50ms/step - loss: 0.7544 - accuracy: 0.7123 - val_loss: 1.1677 - val_accuracy: 0.5954\n",
      "Epoch 8/20\n",
      "144/144 [==============================] - 7s 51ms/step - loss: 0.7005 - accuracy: 0.7303 - val_loss: 1.0580 - val_accuracy: 0.6312\n",
      "Epoch 9/20\n",
      "144/144 [==============================] - 7s 51ms/step - loss: 0.6536 - accuracy: 0.7497 - val_loss: 1.0528 - val_accuracy: 0.6382\n",
      "Epoch 10/20\n",
      "144/144 [==============================] - 7s 51ms/step - loss: 0.6092 - accuracy: 0.7558 - val_loss: 1.1169 - val_accuracy: 0.6289\n",
      "Epoch 11/20\n",
      "144/144 [==============================] - 8s 56ms/step - loss: 0.5679 - accuracy: 0.7810 - val_loss: 1.1217 - val_accuracy: 0.6393\n",
      "Epoch 12/20\n",
      "144/144 [==============================] - 8s 55ms/step - loss: 0.5288 - accuracy: 0.8105 - val_loss: 1.0372 - val_accuracy: 0.6740\n",
      "Epoch 13/20\n",
      "144/144 [==============================] - 7s 51ms/step - loss: 0.4846 - accuracy: 0.8166 - val_loss: 1.1872 - val_accuracy: 0.6081\n",
      "Epoch 14/20\n",
      "144/144 [==============================] - 7s 51ms/step - loss: 0.4804 - accuracy: 0.8236 - val_loss: 1.1117 - val_accuracy: 0.6751\n",
      "Epoch 15/20\n",
      "144/144 [==============================] - 7s 51ms/step - loss: 0.4333 - accuracy: 0.8453 - val_loss: 1.1388 - val_accuracy: 0.6751\n",
      "Epoch 16/20\n",
      "144/144 [==============================] - 7s 51ms/step - loss: 0.4119 - accuracy: 0.8508 - val_loss: 1.1882 - val_accuracy: 0.6694\n",
      "Epoch 17/20\n",
      "144/144 [==============================] - 7s 51ms/step - loss: 0.3981 - accuracy: 0.8552 - val_loss: 1.3760 - val_accuracy: 0.6520\n",
      "Epoch 18/20\n",
      "144/144 [==============================] - 9s 62ms/step - loss: 0.3456 - accuracy: 0.8754 - val_loss: 1.3123 - val_accuracy: 0.6543\n",
      "Epoch 19/20\n",
      "144/144 [==============================] - 10s 66ms/step - loss: 0.3341 - accuracy: 0.8763 - val_loss: 1.4009 - val_accuracy: 0.6405\n",
      "Epoch 20/20\n",
      "144/144 [==============================] - 8s 52ms/step - loss: 0.2888 - accuracy: 0.9053 - val_loss: 1.4764 - val_accuracy: 0.6301\n"
     ]
    }
   ],
   "source": [
    "epoch=20\n",
    "history = model.fit(x_train,steps_per_epoch=len(x_train),validation_data=x_test,validation_steps=len(x_test),epochs=epoch)"
   ]
  },
  {
   "cell_type": "markdown",
   "id": "66e56a72",
   "metadata": {},
   "source": [
    "#### 5. Plot the training and validation accuracy along with training and validation loss"
   ]
  },
  {
   "cell_type": "code",
   "execution_count": 15,
   "id": "9668ca8b",
   "metadata": {},
   "outputs": [
    {
     "data": {
      "image/png": "[encoded data removed]",
      "text/plain": [
       "<Figure size 576x576 with 1 Axes>"
      ]
     },
     "metadata": {
      "needs_background": "light"
     },
     "output_type": "display_data"
    }
   ],
   "source": [
    "epochs_range = range(epoch)\n",
    "\n",
    "plt.figure(figsize=(8, 8))\n",
    "plt.plot(epochs_range, history.history['accuracy'], label='Training Accuracy')\n",
    "plt.plot(epochs_range, history.history['val_accuracy'], label='Validation Accuracy')\n",
    "plt.legend()\n",
    "plt.title('Training and Validation Accuracy')\n",
    "plt.show()"
   ]
  },
  {
   "cell_type": "markdown",
   "id": "8e6b855d",
   "metadata": {},
   "source": [
    "#### 6. Save the Model"
   ]
  },
  {
   "cell_type": "code",
   "execution_count": 17,
   "id": "7d904b0f",
   "metadata": {},
   "outputs": [],
   "source": [
    "model.save('flowers.h5')"
   ]
  },
  {
   "cell_type": "markdown",
   "id": "0e42158b",
   "metadata": {},
   "source": [
    "#### 7. Test the model"
   ]
  },
  {
   "cell_type": "code",
   "execution_count": 18,
   "id": "244f63e3",
   "metadata": {},
   "outputs": [
    {
     "data": {
      "text/plain": [
       "'daisy'"
      ]
     },
     "execution_count": 18,
     "metadata": {},
     "output_type": "execute_result"
    }
   ],
   "source": [
    "img=image.load_img(r\"C:\\Users\\yuvaraj\\OneDrive\\Documents\\IBM\\assignment_3\\flowers\\flowersdataset\\test\\daisy\\3706420943_66f3214862_n.jpg\",target_size=(64,64))\n",
    "x=image.img_to_array(img)\n",
    "x=np.expand_dims(x,axis=0)\n",
    "y=np.argmax(model.predict(x),axis=1)\n",
    "x_train.class_indices\n",
    "index=['daisy','dandellion','rose','sunflower','tulip']\n",
    "index[y[0]]"
   ]
  },
  {
   "cell_type": "code",
   "execution_count": 19,
   "id": "4fc47a09",
   "metadata": {},
   "outputs": [
    {
     "name": "stdout",
     "output_type": "stream",
     "text": [
      "Downloading data from https://storage.googleapis.com/download.tensorflow.org/example_images/592px-Red_sunflower.jpg\n",
      "122880/117948 [===============================] - 0s 1us/step\n",
      "Downloading data from https://storage.googleapis.com/tensorflow/keras-applications/resnet/resnet50_weights_tf_dim_ordering_tf_kernels.h5\n",
      "102973440/102967424 [==============================] - 9s 0us/step\n",
      "Downloading data from https://storage.googleapis.com/download.tensorflow.org/data/imagenet_class_index.json\n",
      "40960/35363 [==================================] - 0s 0us/step\n",
      "[('n11939491', 'daisy', 0.58117616), ('n02206856', 'bee', 0.24989876), ('n03991062', 'pot', 0.01135167)]\n"
     ]
    }
   ],
   "source": [
    "img_url = \"https://storage.googleapis.com/download.tensorflow.org/example_images/592px-Red_sunflower.jpg\"\n",
    "img_path = tf.keras.utils.get_file('Red_sunflower', origin=img_url)\n",
    "\n",
    "img = image.load_img(img_path, target_size=(224, 224))\n",
    "img_array = image.img_to_array(img)\n",
    "img_batch = np.expand_dims(img_array, axis=0)\n",
    "\n",
    "img_preprocessed = preprocess_input(img_batch)\n",
    "model = tf.keras.applications.resnet50.ResNet50()\n",
    "prediction = model.predict(img_preprocessed)\n",
    "\n",
    "print(decode_predictions(prediction, top=3)[0])\n",
    "\n",
    "score = tf.nn.softmax(prediction[0])"
   ]
  }
 ],
 "metadata": {
  "kernelspec": {
   "display_name": "Python 3 (ipykernel)",
   "language": "python",
   "name": "python3"
  },
  "language_info": {
   "codemirror_mode": {
    "name": "ipython",
    "version": 3
   },
   "file_extension": ".py",
   "mimetype": "text/x-python",
   "name": "python",
   "nbconvert_exporter": "python",
   "pygments_lexer": "ipython3",
   "version": "3.8.0"
  }
 },
 "nbformat": 4,
 "nbformat_minor": 5
}
