{
 "cells": [
  {
   "cell_type": "code",
   "execution_count": 1,
   "id": "44ad8095",
   "metadata": {},
   "outputs": [],
   "source": [
    "from tensorflow.keras.preprocessing.image import ImageDataGenerator\n",
    "from tensorflow.keras.layers import Dense,Convolution2D,MaxPooling2D,Flatten"
   ]
  },
  {
   "cell_type": "code",
   "execution_count": 2,
   "id": "99e70714",
   "metadata": {},
   "outputs": [
    {
     "name": "stdout",
     "output_type": "stream",
     "text": [
      "Found GPU at: /device:GPU:0\n"
     ]
    }
   ],
   "source": [
    "import tensorflow\n",
    "device_name = tensorflow.test.gpu_device_name()\n",
    "if not device_name:\n",
    "  raise SystemError('GPU device not found')\n",
    "print('Found GPU at: {}'.format(device_name))"
   ]
  },
  {
   "cell_type": "code",
   "execution_count": 3,
   "id": "d3c3a270",
   "metadata": {},
   "outputs": [],
   "source": [
    "def main():\n",
    "    os.environ['TF_GPU_THREAD_MODE'] = 'gpu_private' "
   ]
  },
  {
   "cell_type": "code",
   "execution_count": 4,
   "id": "7dd7205f",
   "metadata": {},
   "outputs": [],
   "source": [
    "train_datagen = ImageDataGenerator(rescale=1./255,zoom_range=0.2,horizontal_flip=True,vertical_flip=False)"
   ]
  },
  {
   "cell_type": "code",
   "execution_count": 5,
   "id": "81348806",
   "metadata": {},
   "outputs": [],
   "source": [
    "test_datagen = ImageDataGenerator(rescale=1./255)"
   ]
  },
  {
   "cell_type": "code",
   "execution_count": 6,
   "id": "c7a5cf37",
   "metadata": {},
   "outputs": [
    {
     "name": "stdout",
     "output_type": "stream",
     "text": [
      "Found 15341 images belonging to 6 classes.\n"
     ]
    }
   ],
   "source": [
    "x_train = train_datagen.flow_from_directory(\"data/train\",target_size=(64,64),class_mode='categorical',batch_size=32)"
   ]
  },
  {
   "cell_type": "code",
   "execution_count": 7,
   "id": "a4980c48",
   "metadata": {},
   "outputs": [
    {
     "name": "stdout",
     "output_type": "stream",
     "text": [
      "Found 6825 images belonging to 6 classes.\n"
     ]
    }
   ],
   "source": [
    "x_test = test_datagen.flow_from_directory(\"data/test\",target_size=(64,64),class_mode='categorical',batch_size=32)"
   ]
  },
  {
   "cell_type": "code",
   "execution_count": 8,
   "id": "d574ee43",
   "metadata": {},
   "outputs": [
    {
     "data": {
      "text/plain": [
       "{'Left Bundle Branch Block': 0,\n",
       " 'Normal': 1,\n",
       " 'Premature Atrial Contraction': 2,\n",
       " 'Premature Ventricular Contractions': 3,\n",
       " 'Right Bundle Branch Block': 4,\n",
       " 'Ventricular Fibrillation': 5}"
      ]
     },
     "execution_count": 8,
     "metadata": {},
     "output_type": "execute_result"
    }
   ],
   "source": [
    "x_train.class_indices"
   ]
  },
  {
   "cell_type": "code",
   "execution_count": 9,
   "id": "6fb85a8e",
   "metadata": {},
   "outputs": [],
   "source": [
    "from tensorflow.keras.models import Sequential\n",
    "from tensorflow.keras.models import load_model\n",
    "from tensorflow.keras.layers import Dense,Convolution2D,MaxPooling2D,Flatten,Dropout"
   ]
  },
  {
   "cell_type": "code",
   "execution_count": 10,
   "id": "94674677",
   "metadata": {},
   "outputs": [],
   "source": [
    "model=Sequential()\n",
    "model.add(Convolution2D(32,(3,3),input_shape=(64,64,3),activation='relu'))\n",
    "model.add(MaxPooling2D(pool_size=(2,2)))\n",
    "model.add(Convolution2D(32,(3,3),activation='relu'))\n",
    "model.add(MaxPooling2D(pool_size=(2,2)))\n",
    "model.add(Flatten())\n",
    "model.add(Dense(units=128,kernel_initializer=\"random_uniform\",activation=\"relu\"))\n",
    "model.add(Dense(units=128,kernel_initializer=\"random_uniform\",activation=\"relu\"))\n",
    "model.add(Dense(units=128,kernel_initializer=\"random_uniform\",activation=\"relu\"))\n",
    "model.add(Dense(units=128,kernel_initializer=\"random_uniform\",activation=\"relu\"))\n",
    "model.add(Dense(units=128,kernel_initializer=\"random_uniform\",activation=\"relu\"))\n",
    "model.add(Dense(units = 6, kernel_initializer=\"random_uniform\", activation = 'softmax'))"
   ]
  },
  {
   "cell_type": "code",
   "execution_count": 11,
   "id": "77ce2c79",
   "metadata": {},
   "outputs": [
    {
     "name": "stdout",
     "output_type": "stream",
     "text": [
      "Model: \"sequential\"\n",
      "_________________________________________________________________\n",
      "Layer (type)                 Output Shape              Param #   \n",
      "=================================================================\n",
      "conv2d (Conv2D)              (None, 62, 62, 32)        896       \n",
      "_________________________________________________________________\n",
      "max_pooling2d (MaxPooling2D) (None, 31, 31, 32)        0         \n",
      "_________________________________________________________________\n",
      "conv2d_1 (Conv2D)            (None, 29, 29, 32)        9248      \n",
      "_________________________________________________________________\n",
      "max_pooling2d_1 (MaxPooling2 (None, 14, 14, 32)        0         \n",
      "_________________________________________________________________\n",
      "flatten (Flatten)            (None, 6272)              0         \n",
      "_________________________________________________________________\n",
      "dense (Dense)                (None, 128)               802944    \n",
      "_________________________________________________________________\n",
      "dense_1 (Dense)              (None, 128)               16512     \n",
      "_________________________________________________________________\n",
      "dense_2 (Dense)              (None, 128)               16512     \n",
      "_________________________________________________________________\n",
      "dense_3 (Dense)              (None, 128)               16512     \n",
      "_________________________________________________________________\n",
      "dense_4 (Dense)              (None, 128)               16512     \n",
      "_________________________________________________________________\n",
      "dense_5 (Dense)              (None, 6)                 774       \n",
      "=================================================================\n",
      "Total params: 879,910\n",
      "Trainable params: 879,910\n",
      "Non-trainable params: 0\n",
      "_________________________________________________________________\n"
     ]
    }
   ],
   "source": [
    "model.summary()"
   ]
  },
  {
   "cell_type": "code",
   "execution_count": 12,
   "id": "46b8527d",
   "metadata": {},
   "outputs": [
    {
     "data": {
      "text/plain": [
       "480"
      ]
     },
     "execution_count": 12,
     "metadata": {},
     "output_type": "execute_result"
    }
   ],
   "source": [
    "model.compile(loss = \"categorical_crossentropy\", optimizer = \"adam\", metrics = [\"accuracy\"])\n",
    "len(x_train)"
   ]
  },
  {
   "cell_type": "code",
   "execution_count": 13,
   "id": "f6dd4d9d",
   "metadata": {},
   "outputs": [
    {
     "name": "stdout",
     "output_type": "stream",
     "text": [
      "Epoch 1/10\n",
      "480/480 [==============================] - 170s 332ms/step - loss: 1.4493 - accuracy: 0.4780 - val_loss: 1.6764 - val_accuracy: 0.3193\n",
      "Epoch 2/10\n",
      "480/480 [==============================] - 24s 50ms/step - loss: 1.1341 - accuracy: 0.5727 - val_loss: 1.3422 - val_accuracy: 0.5194\n",
      "Epoch 3/10\n",
      "480/480 [==============================] - 25s 52ms/step - loss: 0.5962 - accuracy: 0.7865 - val_loss: 1.1789 - val_accuracy: 0.6796\n",
      "Epoch 4/10\n",
      "480/480 [==============================] - 24s 50ms/step - loss: 0.3330 - accuracy: 0.8887 - val_loss: 0.7553 - val_accuracy: 0.7952\n",
      "Epoch 5/10\n",
      "480/480 [==============================] - 24s 50ms/step - loss: 0.2249 - accuracy: 0.9245 - val_loss: 0.5240 - val_accuracy: 0.8503\n",
      "Epoch 6/10\n",
      "480/480 [==============================] - 24s 50ms/step - loss: 0.1742 - accuracy: 0.9462 - val_loss: 0.5899 - val_accuracy: 0.8492\n",
      "Epoch 7/10\n",
      "480/480 [==============================] - 25s 52ms/step - loss: 0.1329 - accuracy: 0.9597 - val_loss: 0.4521 - val_accuracy: 0.8772\n",
      "Epoch 8/10\n",
      "480/480 [==============================] - 140s 292ms/step - loss: 0.1133 - accuracy: 0.9653 - val_loss: 0.5241 - val_accuracy: 0.8495\n",
      "Epoch 9/10\n",
      "480/480 [==============================] - 27s 56ms/step - loss: 0.1000 - accuracy: 0.9679 - val_loss: 0.4809 - val_accuracy: 0.8876\n",
      "Epoch 10/10\n",
      "480/480 [==============================] - 25s 53ms/step - loss: 0.0909 - accuracy: 0.9714 - val_loss: 0.4966 - val_accuracy: 0.8624\n"
     ]
    }
   ],
   "source": [
    "epoch=10\n",
    "history = model.fit(x_train,steps_per_epoch=len(x_train),validation_data=x_test,validation_steps=len(x_test),epochs=epoch)"
   ]
  },
  {
   "cell_type": "code",
   "execution_count": 14,
   "id": "0b5fa008",
   "metadata": {},
   "outputs": [],
   "source": [
    "model.save('ECG.h5')"
   ]
  },
  {
   "cell_type": "code",
   "execution_count": 15,
   "id": "69cb577a",
   "metadata": {},
   "outputs": [],
   "source": [
    "from tensorflow.keras.preprocessing import image\n",
    "from tensorflow.keras.models import load_model\n",
    "import numpy as np"
   ]
  },
  {
   "cell_type": "code",
   "execution_count": 16,
   "id": "57bd4031",
   "metadata": {},
   "outputs": [
    {
     "name": "stdout",
     "output_type": "stream",
     "text": [
      "(1, 64, 64, 3)\n"
     ]
    },
    {
     "data": {
      "text/plain": [
       "'Normal'"
      ]
     },
     "execution_count": 16,
     "metadata": {},
     "output_type": "execute_result"
    }
   ],
   "source": [
    "model = load_model('ECG.h5')\n",
    "img=image.load_img(\"data/test/Premature Ventricular Contractions/fig_5656.png\",target_size=(64,64))\n",
    "x=image.img_to_array(img)\n",
    "x=np.expand_dims(x,axis=0)\n",
    "print(x.shape)\n",
    "y=np.argmax(model.predict(x),axis=1)\n",
    "index=['Left Bundle Branch Block', 'Normal', 'Premature Atrial Contraction', 'Premature Ventricular Contractions', 'Right Bundle Branch Block','Ventricular Fibrillation']\n",
    "index[y[0]]"
   ]
  }
 ],
 "metadata": {
  "kernelspec": {
   "display_name": "Python 3 (ipykernel)",
   "language": "python",
   "name": "python3"
  },
  "language_info": {
   "codemirror_mode": {
    "name": "ipython",
    "version": 3
   },
   "file_extension": ".py",
   "mimetype": "text/x-python",
   "name": "python",
   "nbconvert_exporter": "python",
   "pygments_lexer": "ipython3",
   "version": "3.8.0"
  }
 },
 "nbformat": 4,
 "nbformat_minor": 5
}
