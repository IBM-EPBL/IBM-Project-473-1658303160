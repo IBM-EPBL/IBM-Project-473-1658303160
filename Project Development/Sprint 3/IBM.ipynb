{
 "cells": [
  {
   "cell_type": "code",
   "execution_count": 1,
   "id": "ce210e1b",
   "metadata": {
    "scrolled": true
   },
   "outputs": [
    {
     "name": "stdout",
     "output_type": "stream",
     "text": [
      "Collecting watson_machine_learning_client\n",
      "  Downloading watson_machine_learning_client-1.0.391-py3-none-any.whl (538 kB)\n",
      "Requirement already satisfied: urllib3 in c:\\users\\kumar\\anaconda3\\envs\\tf2.5\\lib\\site-packages (from watson_machine_learning_client) (1.26.6)\n",
      "Collecting boto3\n",
      "  Downloading boto3-1.26.13-py3-none-any.whl (132 kB)\n",
      "Collecting lomond\n",
      "  Downloading lomond-0.3.3-py2.py3-none-any.whl (35 kB)\n",
      "Requirement already satisfied: tqdm in c:\\users\\kumar\\anaconda3\\envs\\tf2.5\\lib\\site-packages (from watson_machine_learning_client) (4.61.2)\n",
      "Collecting ibm-cos-sdk\n",
      "  Downloading ibm-cos-sdk-2.12.0.tar.gz (55 kB)\n",
      "Requirement already satisfied: certifi in c:\\users\\kumar\\anaconda3\\envs\\tf2.5\\lib\\site-packages (from watson_machine_learning_client) (2021.5.30)\n",
      "Requirement already satisfied: pandas in c:\\users\\kumar\\anaconda3\\envs\\tf2.5\\lib\\site-packages (from watson_machine_learning_client) (1.3.1)\n",
      "Requirement already satisfied: requests in c:\\users\\kumar\\anaconda3\\envs\\tf2.5\\lib\\site-packages (from watson_machine_learning_client) (2.25.1)\n",
      "Collecting tabulate\n",
      "  Downloading tabulate-0.9.0-py3-none-any.whl (35 kB)\n",
      "Collecting s3transfer<0.7.0,>=0.6.0\n",
      "  Downloading s3transfer-0.6.0-py3-none-any.whl (79 kB)\n",
      "Collecting jmespath<2.0.0,>=0.7.1\n",
      "  Downloading jmespath-1.0.1-py3-none-any.whl (20 kB)\n",
      "Collecting botocore<1.30.0,>=1.29.13\n",
      "  Downloading botocore-1.29.13-py3-none-any.whl (9.9 MB)\n",
      "Requirement already satisfied: python-dateutil<3.0.0,>=2.1 in c:\\users\\kumar\\anaconda3\\envs\\tf2.5\\lib\\site-packages (from botocore<1.30.0,>=1.29.13->boto3->watson_machine_learning_client) (2.8.2)\n",
      "Requirement already satisfied: six>=1.5 in c:\\users\\kumar\\anaconda3\\envs\\tf2.5\\lib\\site-packages (from python-dateutil<3.0.0,>=2.1->botocore<1.30.0,>=1.29.13->boto3->watson_machine_learning_client) (1.15.0)\n",
      "Collecting ibm-cos-sdk-core==2.12.0\n",
      "  Downloading ibm-cos-sdk-core-2.12.0.tar.gz (956 kB)\n",
      "Collecting ibm-cos-sdk-s3transfer==2.12.0\n",
      "  Downloading ibm-cos-sdk-s3transfer-2.12.0.tar.gz (135 kB)\n",
      "Collecting jmespath<2.0.0,>=0.7.1\n",
      "  Downloading jmespath-0.10.0-py2.py3-none-any.whl (24 kB)\n",
      "Collecting requests\n",
      "  Downloading requests-2.28.1-py3-none-any.whl (62 kB)\n",
      "Collecting urllib3\n",
      "  Downloading urllib3-1.26.12-py2.py3-none-any.whl (140 kB)\n",
      "Requirement already satisfied: idna<4,>=2.5 in c:\\users\\kumar\\anaconda3\\envs\\tf2.5\\lib\\site-packages (from requests->watson_machine_learning_client) (2.10)\n",
      "Collecting charset-normalizer<3,>=2\n",
      "  Downloading charset_normalizer-2.1.1-py3-none-any.whl (39 kB)\n",
      "Requirement already satisfied: pytz>=2017.3 in c:\\users\\kumar\\anaconda3\\envs\\tf2.5\\lib\\site-packages (from pandas->watson_machine_learning_client) (2021.1)\n",
      "Requirement already satisfied: numpy>=1.17.3 in c:\\users\\kumar\\anaconda3\\envs\\tf2.5\\lib\\site-packages (from pandas->watson_machine_learning_client) (1.19.5)\n",
      "Requirement already satisfied: colorama in c:\\users\\kumar\\appdata\\roaming\\python\\python38\\site-packages (from tqdm->watson_machine_learning_client) (0.4.4)\n",
      "Building wheels for collected packages: ibm-cos-sdk, ibm-cos-sdk-core, ibm-cos-sdk-s3transfer\n",
      "  Building wheel for ibm-cos-sdk (setup.py): started\n",
      "  Building wheel for ibm-cos-sdk (setup.py): finished with status 'done'\n",
      "  Created wheel for ibm-cos-sdk: filename=ibm_cos_sdk-2.12.0-py3-none-any.whl size=73920 sha256=f68fa3dbee93871df622106b29ad4d98f3de7bd62a9ba70a9b9add6f95e03f50\n",
      "  Stored in directory: c:\\users\\kumar\\appdata\\local\\pip\\cache\\wheels\\21\\5f\\fd\\6a04fbb45aad71bc0c8300834368f9d39ef7c4fd1869d2244d\n",
      "  Building wheel for ibm-cos-sdk-core (setup.py): started\n",
      "  Building wheel for ibm-cos-sdk-core (setup.py): finished with status 'done'\n",
      "  Created wheel for ibm-cos-sdk-core: filename=ibm_cos_sdk_core-2.12.0-py3-none-any.whl size=562947 sha256=66068e519d07c94bd537cf3853bf70d0e016547fd4b648fa729ca0d6dccaf752\n",
      "  Stored in directory: c:\\users\\kumar\\appdata\\local\\pip\\cache\\wheels\\ca\\3d\\78\\48c57e974477098f3facc8c1df402b1de0a8cbf8c69d660ee7\n",
      "  Building wheel for ibm-cos-sdk-s3transfer (setup.py): started\n",
      "  Building wheel for ibm-cos-sdk-s3transfer (setup.py): finished with status 'done'\n",
      "  Created wheel for ibm-cos-sdk-s3transfer: filename=ibm_cos_sdk_s3transfer-2.12.0-py3-none-any.whl size=89762 sha256=a8eafe4dc42e115914ab3b5726d59a69f571d053256164c70459037236c448e7\n",
      "  Stored in directory: c:\\users\\kumar\\appdata\\local\\pip\\cache\\wheels\\c0\\7a\\37\\13b53ca7d27a29a1062a47c58baa1c2ff3832795b698c0db46\n",
      "Successfully built ibm-cos-sdk ibm-cos-sdk-core ibm-cos-sdk-s3transfer\n",
      "Installing collected packages: urllib3, charset-normalizer, requests, jmespath, ibm-cos-sdk-core, botocore, s3transfer, ibm-cos-sdk-s3transfer, tabulate, lomond, ibm-cos-sdk, boto3, watson-machine-learning-client\n",
      "  Attempting uninstall: urllib3\n",
      "    Found existing installation: urllib3 1.26.6\n",
      "    Uninstalling urllib3-1.26.6:\n",
      "      Successfully uninstalled urllib3-1.26.6\n",
      "  Attempting uninstall: requests\n",
      "    Found existing installation: requests 2.25.1\n",
      "    Uninstalling requests-2.25.1:\n",
      "      Successfully uninstalled requests-2.25.1\n",
      "Successfully installed boto3-1.26.13 botocore-1.29.13 charset-normalizer-2.1.1 ibm-cos-sdk-2.12.0 ibm-cos-sdk-core-2.12.0 ibm-cos-sdk-s3transfer-2.12.0 jmespath-0.10.0 lomond-0.3.3 requests-2.28.1 s3transfer-0.6.0 tabulate-0.9.0 urllib3-1.26.12 watson-machine-learning-client-1.0.391\n",
      "Note: you may need to restart the kernel to use updated packages.\n"
     ]
    }
   ],
   "source": [
    "pip install watson_machine_learning_client"
   ]
  },
  {
   "cell_type": "code",
   "execution_count": 1,
   "id": "680b4a31",
   "metadata": {},
   "outputs": [
    {
     "name": "stdout",
     "output_type": "stream",
     "text": [
      "Python 3.7 and 3.8 frameworks are deprecated and will be removed in a future release. Use Python 3.9 framework instead.\n"
     ]
    }
   ],
   "source": [
    "from ibm_watson_machine_learning import APIClient\n",
    "wml_credentials={\n",
    "    \"url\":\"https://us-south.ml.cloud.ibm.com\",\n",
    "    \"apikey\":\"FLORxaOpI3ebdjDW8X96Ac9yLncAW7X1i1oHM9M6f_ZK\"\n",
    "}\n",
    "\n",
    "client=APIClient(wml_credentials)"
   ]
  },
  {
   "cell_type": "code",
   "execution_count": 2,
   "id": "76e4d87f",
   "metadata": {},
   "outputs": [
    {
     "data": {
      "text/plain": [
       "<ibm_watson_machine_learning.client.APIClient at 0x171cda35b0>"
      ]
     },
     "execution_count": 2,
     "metadata": {},
     "output_type": "execute_result"
    }
   ],
   "source": [
    "client"
   ]
  },
  {
   "cell_type": "code",
   "execution_count": 3,
   "id": "dedd00b6",
   "metadata": {},
   "outputs": [],
   "source": [
    "def guid_space_name(client,Gesture):\n",
    "    space=client.spaces.get_details()\n",
    "    return(next(item for item in space['resources'] if item['entity']['name']==Gesture)['metadata']['id'])"
   ]
  },
  {
   "cell_type": "code",
   "execution_count": 6,
   "id": "2e6019da",
   "metadata": {},
   "outputs": [
    {
     "name": "stdout",
     "output_type": "stream",
     "text": [
      "Space UID 0c92d689-865b-4fc3-b3e6-41e9d97f8569\n"
     ]
    }
   ],
   "source": [
    "space_uid=guid_space_name(client,'ECG_CNN_deploy')\n",
    "print(\"Space UID \"+space_uid)"
   ]
  },
  {
   "cell_type": "code",
   "execution_count": 7,
   "id": "13333773",
   "metadata": {},
   "outputs": [
    {
     "data": {
      "text/plain": [
       "'SUCCESS'"
      ]
     },
     "execution_count": 7,
     "metadata": {},
     "output_type": "execute_result"
    }
   ],
   "source": [
    "client.set.default_space(space_uid)"
   ]
  },
  {
   "cell_type": "code",
   "execution_count": 8,
   "id": "22d6243b",
   "metadata": {},
   "outputs": [
    {
     "name": "stdout",
     "output_type": "stream",
     "text": [
      "Successfully saved model content to file: 'my_model.tar.gz'\n"
     ]
    },
    {
     "data": {
      "text/plain": [
       "'c:\\\\Users\\\\Happy\\\\Downloads/my_model.tar.gz'"
      ]
     },
     "execution_count": 8,
     "metadata": {},
     "output_type": "execute_result"
    }
   ],
   "source": [
    "client.repository.download('009d951e-ff9f-4e80-be84-fd8f10b5c908','my_model.tar.gz')"
   ]
  }
 ],
 "metadata": {
  "kernelspec": {
   "display_name": "Python 3.8.13 ('openvino_env')",
   "language": "python",
   "name": "python3"
  },
  "language_info": {
   "codemirror_mode": {
    "name": "ipython",
    "version": 3
   },
   "file_extension": ".py",
   "mimetype": "text/x-python",
   "name": "python",
   "nbconvert_exporter": "python",
   "pygments_lexer": "ipython3",
   "version": "3.8.13"
  },
  "vscode": {
   "interpreter": {
    "hash": "f228a54f3afe791615f26dba516e025d22b201222985dae1267f97c4c1ed8bb7"
   }
  }
 },
 "nbformat": 4,
 "nbformat_minor": 5
}
